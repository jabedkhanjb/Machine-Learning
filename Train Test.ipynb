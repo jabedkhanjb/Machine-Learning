{
 "cells": [
  {
   "cell_type": "markdown",
   "id": "b816b95e",
   "metadata": {},
   "source": [
    "# Machine Learning - Train/Test"
   ]
  },
  {
   "cell_type": "markdown",
   "id": "8aaa7770",
   "metadata": {},
   "source": [
    "# Evaluate Your Model\n",
    "\n",
    "In Machine Learning we create models to predict the outcome of certain events, like in the previous chapter where we predicted the CO2 emission of a car when we knew the weight and engine size.\n",
    "\n",
    "To measure if the model is good enough, we can use a method called Train/Test."
   ]
  },
  {
   "cell_type": "markdown",
   "id": "13fc6972",
   "metadata": {},
   "source": [
    "# What is Train/Test\n",
    "\n",
    "Train/Test is a method to measure the accuracy of your model.\n",
    "\n",
    "It is called Train/Test because you split the data set into two sets: a training set and a testing set.\n",
    "\n",
    "<i>80% for training, and 20% for testing.</i>\n",
    "\n",
    "You <i>train</i> the model using the training set.\n",
    "\n",
    "You <i>test</i> the model using the testing set.\n",
    "\n",
    "<i><b>Train</b></i> the model means create the model.\n",
    "\n",
    "<i><b>Test</b></i> the model means test the accuracy of the model.\n"
   ]
  },
  {
   "cell_type": "markdown",
   "id": "44955b85",
   "metadata": {},
   "source": [
    "# Start With a Data Set\n",
    "\n",
    "Start with a data set you want to test.\n",
    "\n",
    "Our data set illustrates 100 customers in a shop, and their shopping habits."
   ]
  },
  {
   "cell_type": "code",
   "execution_count": 1,
   "id": "0ba096ff",
   "metadata": {},
   "outputs": [],
   "source": [
    "import numpy as np\n",
    "import matplotlib.pyplot as plt"
   ]
  },
  {
   "cell_type": "code",
   "execution_count": 3,
   "id": "598ed519",
   "metadata": {},
   "outputs": [],
   "source": [
    "np.random.seed(2)"
   ]
  },
  {
   "cell_type": "code",
   "execution_count": 18,
   "id": "3aa36ea7",
   "metadata": {},
   "outputs": [],
   "source": [
    "x = np.random.normal(6, 2, 10)"
   ]
  },
  {
   "cell_type": "code",
   "execution_count": 19,
   "id": "40a148bb",
   "metadata": {},
   "outputs": [
    {
     "data": {
      "text/plain": [
       "array([7.20303163, 6.00731898, 5.54350488, 1.86077547, 7.22028817,\n",
       "       6.8469938 , 8.23577347, 5.45151582, 9.48362438, 5.10499825])"
      ]
     },
     "execution_count": 19,
     "metadata": {},
     "output_type": "execute_result"
    }
   ],
   "source": [
    "x"
   ]
  },
  {
   "cell_type": "code",
   "execution_count": null,
   "id": "b6349d6e",
   "metadata": {},
   "outputs": [],
   "source": []
  }
 ],
 "metadata": {
  "kernelspec": {
   "display_name": "Python 3 (ipykernel)",
   "language": "python",
   "name": "python3"
  },
  "language_info": {
   "codemirror_mode": {
    "name": "ipython",
    "version": 3
   },
   "file_extension": ".py",
   "mimetype": "text/x-python",
   "name": "python",
   "nbconvert_exporter": "python",
   "pygments_lexer": "ipython3",
   "version": "3.9.13"
  }
 },
 "nbformat": 4,
 "nbformat_minor": 5
}
