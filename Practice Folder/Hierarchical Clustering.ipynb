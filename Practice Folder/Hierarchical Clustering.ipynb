{
 "cells": [
  {
   "cell_type": "code",
   "execution_count": 1,
   "id": "ad7330f3",
   "metadata": {},
   "outputs": [],
   "source": [
    "import numpy as np\n",
    "import matplotlib.pyplot as plt\n",
    "from scipy.cluster.hierarchy import dendrogram, linkage"
   ]
  },
  {
   "cell_type": "code",
   "execution_count": 20,
   "id": "6fe16892",
   "metadata": {},
   "outputs": [],
   "source": [
    "x = [4, 5, 10, 4, 3, 11, 14 , 6, 10, 12, 15, 9]\n",
    "y = [21, 19, 24, 17, 16, 25, 24, 22, 21, 21, 12, 19]"
   ]
  },
  {
   "cell_type": "code",
   "execution_count": 21,
   "id": "c9be2941",
   "metadata": {},
   "outputs": [],
   "source": [
    "data = list(zip(x, y))"
   ]
  },
  {
   "cell_type": "code",
   "execution_count": 22,
   "id": "35c4b0b1",
   "metadata": {},
   "outputs": [
    {
     "data": {
      "text/plain": [
       "[(4, 21),\n",
       " (5, 19),\n",
       " (10, 24),\n",
       " (4, 17),\n",
       " (3, 16),\n",
       " (11, 25),\n",
       " (14, 24),\n",
       " (6, 22),\n",
       " (10, 21),\n",
       " (12, 21),\n",
       " (15, 12),\n",
       " (9, 19)]"
      ]
     },
     "execution_count": 22,
     "metadata": {},
     "output_type": "execute_result"
    }
   ],
   "source": [
    "data"
   ]
  },
  {
   "cell_type": "code",
   "execution_count": 24,
   "id": "f3ecb07a",
   "metadata": {},
   "outputs": [],
   "source": [
    "linkagedata = linkage(data, method = \"ward\", metric = \"euclidean\")"
   ]
  },
  {
   "cell_type": "code",
   "execution_count": 27,
   "id": "811a3abd",
   "metadata": {},
   "outputs": [
    {
     "data": {
      "text/plain": [
       "{'icoord': [[5.0, 5.0, 15.0, 15.0],\n",
       "  [35.0, 35.0, 45.0, 45.0],\n",
       "  [25.0, 25.0, 40.0, 40.0],\n",
       "  [10.0, 10.0, 32.5, 32.5],\n",
       "  [75.0, 75.0, 85.0, 85.0],\n",
       "  [65.0, 65.0, 80.0, 80.0],\n",
       "  [105.0, 105.0, 115.0, 115.0],\n",
       "  [95.0, 95.0, 110.0, 110.0],\n",
       "  [72.5, 72.5, 102.5, 102.5],\n",
       "  [55.0, 55.0, 87.5, 87.5],\n",
       "  [21.25, 21.25, 71.25, 71.25]],\n",
       " 'dcoord': [[0.0, 1.4142135623730951, 1.4142135623730951, 0.0],\n",
       "  [0.0, 2.23606797749979, 2.23606797749979, 0.0],\n",
       "  [0.0, 2.886751345948129, 2.886751345948129, 2.23606797749979],\n",
       "  [1.4142135623730951,\n",
       "   6.860515043833565,\n",
       "   6.860515043833565,\n",
       "   2.886751345948129],\n",
       "  [0.0, 2.0, 2.0, 0.0],\n",
       "  [0.0, 3.2659863237109037, 3.2659863237109037, 2.0],\n",
       "  [0.0, 1.4142135623730951, 1.4142135623730951, 0.0],\n",
       "  [0.0, 4.08248290463863, 4.08248290463863, 1.4142135623730951],\n",
       "  [3.2659863237109037, 7.302967433402215, 7.302967433402215, 4.08248290463863],\n",
       "  [0.0, 14.507797574966038, 14.507797574966038, 7.302967433402215],\n",
       "  [6.860515043833565,\n",
       "   17.892004066727953,\n",
       "   17.892004066727953,\n",
       "   14.507797574966038]],\n",
       " 'ivl': ['3', '4', '7', '0', '1', '10', '11', '8', '9', '6', '2', '5'],\n",
       " 'leaves': [3, 4, 7, 0, 1, 10, 11, 8, 9, 6, 2, 5],\n",
       " 'color_list': ['C1',\n",
       "  'C1',\n",
       "  'C1',\n",
       "  'C1',\n",
       "  'C2',\n",
       "  'C2',\n",
       "  'C2',\n",
       "  'C2',\n",
       "  'C2',\n",
       "  'C0',\n",
       "  'C0'],\n",
       " 'leaves_color_list': ['C1',\n",
       "  'C1',\n",
       "  'C1',\n",
       "  'C1',\n",
       "  'C1',\n",
       "  'C0',\n",
       "  'C2',\n",
       "  'C2',\n",
       "  'C2',\n",
       "  'C2',\n",
       "  'C2',\n",
       "  'C2']}"
      ]
     },
     "execution_count": 27,
     "metadata": {},
     "output_type": "execute_result"
    },
    {
     "data": {
      "image/png": "[encoded data removed]",
      "text/plain": [
       "<Figure size 640x480 with 1 Axes>"
      ]
     },
     "metadata": {},
     "output_type": "display_data"
    }
   ],
   "source": [
    "dendrogram(linkagedata)"
   ]
  },
  {
   "cell_type": "code",
   "execution_count": null,
   "id": "926354c0",
   "metadata": {},
   "outputs": [],
   "source": []
  }
 ],
 "metadata": {
  "kernelspec": {
   "display_name": "Python 3 (ipykernel)",
   "language": "python",
   "name": "python3"
  },
  "language_info": {
   "codemirror_mode": {
    "name": "ipython",
    "version": 3
   },
   "file_extension": ".py",
   "mimetype": "text/x-python",
   "name": "python",
   "nbconvert_exporter": "python",
   "pygments_lexer": "ipython3",
   "version": "3.9.13"
  }
 },
 "nbformat": 4,
 "nbformat_minor": 5
}
