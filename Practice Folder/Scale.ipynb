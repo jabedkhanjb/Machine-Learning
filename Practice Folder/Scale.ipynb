{
 "cells": [
  {
   "cell_type": "markdown",
   "id": "feb8fd31",
   "metadata": {},
   "source": [
    "# Machine Learning - Scale"
   ]
  },
  {
   "cell_type": "code",
   "execution_count": 5,
   "id": "8b6f974e",
   "metadata": {},
   "outputs": [],
   "source": [
    "import numpy as np\n",
    "import pandas as pd\n",
    "import matplotlib.pyplot as plt\n",
    "from sklearn import linear_model\n",
    "from sklearn.preprocessing import StandardScaler"
   ]
  },
  {
   "cell_type": "code",
   "execution_count": 3,
   "id": "85e86065",
   "metadata": {},
   "outputs": [],
   "source": [
    "scale = StandardScaler()"
   ]
  },
  {
   "cell_type": "code",
   "execution_count": 7,
   "id": "98f09e8d",
   "metadata": {},
   "outputs": [],
   "source": [
    "df = pd.read_csv(\"cardmodified.csv\")"
   ]
  },
  {
   "cell_type": "code",
   "execution_count": 8,
   "id": "257a6273",
   "metadata": {},
   "outputs": [
    {
     "data": {
      "text/html": [
       "<div>\n",
       "<style scoped>\n",
       "    .dataframe tbody tr th:only-of-type {\n",
       "        vertical-align: middle;\n",
       "    }\n",
       "\n",
       "    .dataframe tbody tr th {\n",
       "        vertical-align: top;\n",
       "    }\n",
       "\n",
       "    .dataframe thead th {\n",
       "        text-align: right;\n",
       "    }\n",
       "</style>\n",
       "<table border=\"1\" class=\"dataframe\">\n",
       "  <thead>\n",
       "    <tr style=\"text-align: right;\">\n",
       "      <th></th>\n",
       "      <th>Car</th>\n",
       "      <th>Model</th>\n",
       "      <th>Volume</th>\n",
       "      <th>Weight</th>\n",
       "      <th>CO2</th>\n",
       "    </tr>\n",
       "  </thead>\n",
       "  <tbody>\n",
       "    <tr>\n",
       "      <th>0</th>\n",
       "      <td>Toyoty</td>\n",
       "      <td>Aygo</td>\n",
       "      <td>1.0</td>\n",
       "      <td>790</td>\n",
       "      <td>99</td>\n",
       "    </tr>\n",
       "    <tr>\n",
       "      <th>1</th>\n",
       "      <td>Mitsubishi</td>\n",
       "      <td>Space Star</td>\n",
       "      <td>1.2</td>\n",
       "      <td>1160</td>\n",
       "      <td>95</td>\n",
       "    </tr>\n",
       "    <tr>\n",
       "      <th>2</th>\n",
       "      <td>Skoda</td>\n",
       "      <td>Citigo</td>\n",
       "      <td>1.0</td>\n",
       "      <td>929</td>\n",
       "      <td>95</td>\n",
       "    </tr>\n",
       "    <tr>\n",
       "      <th>3</th>\n",
       "      <td>Fiat</td>\n",
       "      <td>500</td>\n",
       "      <td>0.9</td>\n",
       "      <td>865</td>\n",
       "      <td>90</td>\n",
       "    </tr>\n",
       "    <tr>\n",
       "      <th>4</th>\n",
       "      <td>Mini</td>\n",
       "      <td>Cooper</td>\n",
       "      <td>1.5</td>\n",
       "      <td>1140</td>\n",
       "      <td>105</td>\n",
       "    </tr>\n",
       "  </tbody>\n",
       "</table>\n",
       "</div>"
      ],
      "text/plain": [
       "          Car       Model  Volume  Weight  CO2\n",
       "0      Toyoty        Aygo     1.0     790   99\n",
       "1  Mitsubishi  Space Star     1.2    1160   95\n",
       "2       Skoda      Citigo     1.0     929   95\n",
       "3        Fiat         500     0.9     865   90\n",
       "4        Mini      Cooper     1.5    1140  105"
      ]
     },
     "execution_count": 8,
     "metadata": {},
     "output_type": "execute_result"
    }
   ],
   "source": [
    "df.head()"
   ]
  },
  {
   "cell_type": "code",
   "execution_count": 11,
   "id": "d1978d47",
   "metadata": {},
   "outputs": [],
   "source": [
    "X = df[[\"Volume\", \"Weight\"]]\n",
    "y = df[\"CO2\"]"
   ]
  },
  {
   "cell_type": "code",
   "execution_count": 12,
   "id": "257655a1",
   "metadata": {},
   "outputs": [],
   "source": [
    "scaleX = scale.fit_transform(X)"
   ]
  },
  {
   "cell_type": "code",
   "execution_count": 13,
   "id": "1336217f",
   "metadata": {},
   "outputs": [
    {
     "name": "stdout",
     "output_type": "stream",
     "text": [
      "[[-1.59336644 -2.10389253]\n",
      " [-1.07190106 -0.55407235]\n",
      " [-1.59336644 -1.52166278]\n",
      " [-1.85409913 -1.78973979]\n",
      " [-0.28970299 -0.63784641]\n",
      " [-1.59336644 -1.52166278]\n",
      " [-0.55043568 -0.76769621]\n",
      " [-0.28970299  0.3046118 ]\n",
      " [-0.28970299 -0.7551301 ]\n",
      " [-0.0289703  -0.59595938]\n",
      " [-1.33263375 -1.30803892]\n",
      " [-0.81116837 -1.26615189]\n",
      " [-1.59336644 -0.7551301 ]\n",
      " [-0.0289703  -0.16871166]\n",
      " [-0.0289703   0.14125238]\n",
      " [-0.0289703   0.15800719]\n",
      " [-0.0289703   0.3046118 ]\n",
      " [ 1.53542584 -0.05142797]\n",
      " [-0.0289703  -0.72580918]\n",
      " [ 1.01396046  0.14962979]\n",
      " [-0.0289703   1.2219378 ]\n",
      " [ 1.01396046  0.5685001 ]\n",
      " [ 1.27469315  0.3046118 ]\n",
      " [-0.0289703   0.51404696]\n",
      " [ 1.01396046  0.51404696]\n",
      " [-0.28970299  0.72348212]\n",
      " [ 1.01396046  0.8281997 ]\n",
      " [ 1.01396046  1.81254495]\n",
      " [-0.0289703   0.96642691]\n",
      " [ 1.01396046  1.72877089]\n",
      " [ 1.27469315  1.30990057]\n",
      " [ 1.01396046  1.90050772]\n",
      " [-0.0289703  -0.23991961]\n",
      " [-0.0289703   0.40932938]\n",
      " [-0.0289703   0.47215993]\n",
      " [ 2.31762392  0.4302729 ]]\n"
     ]
    }
   ],
   "source": [
    "print(scaleX)"
   ]
  },
  {
   "cell_type": "code",
   "execution_count": 14,
   "id": "80efb795",
   "metadata": {},
   "outputs": [
    {
     "data": {
      "text/html": [
       "<div>\n",
       "<style scoped>\n",
       "    .dataframe tbody tr th:only-of-type {\n",
       "        vertical-align: middle;\n",
       "    }\n",
       "\n",
       "    .dataframe tbody tr th {\n",
       "        vertical-align: top;\n",
       "    }\n",
       "\n",
       "    .dataframe thead th {\n",
       "        text-align: right;\n",
       "    }\n",
       "</style>\n",
       "<table border=\"1\" class=\"dataframe\">\n",
       "  <thead>\n",
       "    <tr style=\"text-align: right;\">\n",
       "      <th></th>\n",
       "      <th>Volume</th>\n",
       "      <th>Weight</th>\n",
       "      <th>CO2</th>\n",
       "    </tr>\n",
       "  </thead>\n",
       "  <tbody>\n",
       "    <tr>\n",
       "      <th>count</th>\n",
       "      <td>36.000000</td>\n",
       "      <td>36.000000</td>\n",
       "      <td>36.000000</td>\n",
       "    </tr>\n",
       "    <tr>\n",
       "      <th>mean</th>\n",
       "      <td>1.611111</td>\n",
       "      <td>1292.277778</td>\n",
       "      <td>102.027778</td>\n",
       "    </tr>\n",
       "    <tr>\n",
       "      <th>std</th>\n",
       "      <td>0.388975</td>\n",
       "      <td>242.123889</td>\n",
       "      <td>7.454571</td>\n",
       "    </tr>\n",
       "    <tr>\n",
       "      <th>min</th>\n",
       "      <td>0.900000</td>\n",
       "      <td>790.000000</td>\n",
       "      <td>90.000000</td>\n",
       "    </tr>\n",
       "    <tr>\n",
       "      <th>25%</th>\n",
       "      <td>1.475000</td>\n",
       "      <td>1117.250000</td>\n",
       "      <td>97.750000</td>\n",
       "    </tr>\n",
       "    <tr>\n",
       "      <th>50%</th>\n",
       "      <td>1.600000</td>\n",
       "      <td>1329.000000</td>\n",
       "      <td>99.000000</td>\n",
       "    </tr>\n",
       "    <tr>\n",
       "      <th>75%</th>\n",
       "      <td>2.000000</td>\n",
       "      <td>1418.250000</td>\n",
       "      <td>105.000000</td>\n",
       "    </tr>\n",
       "    <tr>\n",
       "      <th>max</th>\n",
       "      <td>2.500000</td>\n",
       "      <td>1746.000000</td>\n",
       "      <td>120.000000</td>\n",
       "    </tr>\n",
       "  </tbody>\n",
       "</table>\n",
       "</div>"
      ],
      "text/plain": [
       "          Volume       Weight         CO2\n",
       "count  36.000000    36.000000   36.000000\n",
       "mean    1.611111  1292.277778  102.027778\n",
       "std     0.388975   242.123889    7.454571\n",
       "min     0.900000   790.000000   90.000000\n",
       "25%     1.475000  1117.250000   97.750000\n",
       "50%     1.600000  1329.000000   99.000000\n",
       "75%     2.000000  1418.250000  105.000000\n",
       "max     2.500000  1746.000000  120.000000"
      ]
     },
     "execution_count": 14,
     "metadata": {},
     "output_type": "execute_result"
    }
   ],
   "source": [
    "df.describe()"
   ]
  },
  {
   "cell_type": "code",
   "execution_count": 16,
   "id": "a64fdcc3",
   "metadata": {},
   "outputs": [
    {
     "data": {
      "text/plain": [
       "LinearRegression()"
      ]
     },
     "execution_count": 16,
     "metadata": {},
     "output_type": "execute_result"
    }
   ],
   "source": [
    "# now predict co2 values\n",
    "\n",
    "regr = linear_model.LinearRegression()\n",
    "regr.fit(scaleX, y)"
   ]
  },
  {
   "cell_type": "code",
   "execution_count": 18,
   "id": "95e61e97",
   "metadata": {},
   "outputs": [
    {
     "name": "stderr",
     "output_type": "stream",
     "text": [
      "D:\\Anaconda3\\lib\\site-packages\\sklearn\\base.py:450: UserWarning: X does not have valid feature names, but StandardScaler was fitted with feature names\n",
      "  warnings.warn(\n"
     ]
    }
   ],
   "source": [
    "scaled = scale.transform([[0.9, 865]])"
   ]
  },
  {
   "cell_type": "code",
   "execution_count": 19,
   "id": "2d603aaa",
   "metadata": {},
   "outputs": [
    {
     "name": "stdout",
     "output_type": "stream",
     "text": [
      "[93.25102045]\n"
     ]
    }
   ],
   "source": [
    "predict = regr.predict([scaled[0]])\n",
    "print(predict)"
   ]
  },
  {
   "cell_type": "code",
   "execution_count": null,
   "id": "a6e49e31",
   "metadata": {},
   "outputs": [],
   "source": []
  }
 ],
 "metadata": {
  "kernelspec": {
   "display_name": "Python 3 (ipykernel)",
   "language": "python",
   "name": "python3"
  },
  "language_info": {
   "codemirror_mode": {
    "name": "ipython",
    "version": 3
   },
   "file_extension": ".py",
   "mimetype": "text/x-python",
   "name": "python",
   "nbconvert_exporter": "python",
   "pygments_lexer": "ipython3",
   "version": "3.9.13"
  }
 },
 "nbformat": 4,
 "nbformat_minor": 5
}
