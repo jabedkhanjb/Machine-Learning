{
 "cells": [
  {
   "cell_type": "code",
   "execution_count": 1,
   "id": "6071e5c5",
   "metadata": {},
   "outputs": [],
   "source": [
    "import numpy as np"
   ]
  },
  {
   "cell_type": "code",
   "execution_count": 8,
   "id": "ad485e4a",
   "metadata": {},
   "outputs": [],
   "source": [
    "actual = np.random.binomial(1, 0.9, size = 1000)\n",
    "predicted = np.random.binomial(1, 0.9, size = 1000)"
   ]
  },
  {
   "cell_type": "code",
   "execution_count": 10,
   "id": "52da9b3f",
   "metadata": {},
   "outputs": [],
   "source": [
    "from sklearn import metrics"
   ]
  },
  {
   "cell_type": "markdown",
   "id": "bae28ea1",
   "metadata": {},
   "source": [
    "Once metrics is imported we can use the confusion matrix function on our actual and predicted values.\n",
    "\n",
    "<b>confusion_matrix</b>"
   ]
  },
  {
   "cell_type": "code",
   "execution_count": 12,
   "id": "d0ac3d62",
   "metadata": {},
   "outputs": [],
   "source": [
    "myconfusion = metrics.confusion_matrix(actual, predicted)"
   ]
  },
  {
   "cell_type": "markdown",
   "id": "d5989856",
   "metadata": {},
   "source": [
    "To create a more interpretable visual display we need to convert the table into a confusion matrix display."
   ]
  },
  {
   "cell_type": "code",
   "execution_count": 16,
   "id": "c944574c",
   "metadata": {},
   "outputs": [],
   "source": [
    "confusiondisplay = metrics.ConfusionMatrixDisplay(confusion_matrix = myconfusion, display_labels = [False, True])"
   ]
  },
  {
   "cell_type": "code",
   "execution_count": 18,
   "id": "859aee4a",
   "metadata": {},
   "outputs": [],
   "source": [
    "import matplotlib.pyplot as plt"
   ]
  },
  {
   "cell_type": "code",
   "execution_count": 19,
   "id": "018fb9f9",
   "metadata": {},
   "outputs": [
    {
     "data": {
      "image/png": "[encoded data removed]",
      "text/plain": [
       "<Figure size 640x480 with 2 Axes>"
      ]
     },
     "metadata": {},
     "output_type": "display_data"
    }
   ],
   "source": [
    "confusiondisplay.plot()\n",
    "plt.show()"
   ]
  },
  {
   "cell_type": "markdown",
   "id": "180d4637",
   "metadata": {},
   "source": [
    "# Results Explained\n",
    "\n",
    "The Confusion Matrix created has four different quadrants:\n",
    "\n",
    "True Negative (Top-Left Quadrant)\n",
    "False Positive (Top-Right Quadrant)\n",
    "False Negative (Bottom-Left Quadrant)\n",
    "True Positive (Bottom-Right Quadrant)\n",
    "\n",
    "True means that the values were accurately predicted, False means that there was an error or wrong prediction.\n",
    "\n",
    "Now that we have made a Confusion Matrix, we can calculate different measures to quantify the quality of the model. First, lets look at Accuracy."
   ]
  },
  {
   "cell_type": "markdown",
   "id": "be3b2607",
   "metadata": {},
   "source": [
    "# Classification metrics\n",
    "When performing classification predictions, there's four types of outcomes that could occur.\n",
    "\n",
    "   <b>True positives are when you predict an observation belongs to a class and it actually does belong to that class.</b>\n",
    "    \n",
    "   <b>True negatives are when you predict an observation does not belong to a class and it actually does not belong to that class.</b>\n",
    "    \n",
    "   <b>False positives occur when you predict an observation belongs to a class when in reality it does not.</b>\n",
    "    \n",
    "   <b>False negatives occur when you predict an observation does not belong to a class when in fact it does.</b>\n"
   ]
  },
  {
   "cell_type": "markdown",
   "id": "56220b53",
   "metadata": {},
   "source": [
    "# Created Metrics\n",
    "\n",
    "The matrix provides us with many useful metrics that help us to evaluate out classification model.\n",
    "\n",
    "The different measures include: Accuracy, Precision, Sensitivity (Recall), Specificity, and the F-score, explained below."
   ]
  },
  {
   "cell_type": "markdown",
   "id": "66d9bc77",
   "metadata": {},
   "source": [
    "# Accuracy\n",
    "\n",
    "Accuracy measures how often the model is correct.\n",
    "# How to Calculate\n",
    "\n",
    "(True Positive + True Negative) / Total Predictions"
   ]
  },
  {
   "cell_type": "code",
   "execution_count": 20,
   "id": "e7063ae4",
   "metadata": {},
   "outputs": [],
   "source": [
    "checkaccuracy = metrics.accuracy_score( actual, predicted)"
   ]
  },
  {
   "cell_type": "code",
   "execution_count": 21,
   "id": "b35fad2e",
   "metadata": {},
   "outputs": [
    {
     "data": {
      "text/plain": [
       "0.845"
      ]
     },
     "execution_count": 21,
     "metadata": {},
     "output_type": "execute_result"
    }
   ],
   "source": [
    "checkaccuracy"
   ]
  },
  {
   "cell_type": "markdown",
   "id": "dc1a3c72",
   "metadata": {},
   "source": [
    "# Precision\n",
    "\n",
    "Of the positives predicted, what percentage is truly positive?\n",
    "## How to Calculate\n",
    "\n",
    "True Positive / (True Positive + False Positive)\n",
    "\n",
    "Precision does not evaluate the correctly predicted negative cases:"
   ]
  },
  {
   "cell_type": "code",
   "execution_count": 24,
   "id": "a992311d",
   "metadata": {},
   "outputs": [],
   "source": [
    "precision = metrics.precision_score(actual, predicted) "
   ]
  },
  {
   "cell_type": "code",
   "execution_count": 25,
   "id": "47bc251a",
   "metadata": {},
   "outputs": [
    {
     "data": {
      "text/plain": [
       "0.9140369967355821"
      ]
     },
     "execution_count": 25,
     "metadata": {},
     "output_type": "execute_result"
    }
   ],
   "source": [
    "precision"
   ]
  },
  {
   "cell_type": "markdown",
   "id": "a1d86346",
   "metadata": {},
   "source": [
    "# Sensitivity (Recall)\n",
    "\n",
    "Of all the positive cases, what percentage are predicted positive?\n",
    "\n",
    "Sensitivity (sometimes called Recall) measures how good the model is at predicting positives.\n",
    "\n",
    "This means it looks at true positives and false negatives (which are positives that have been incorrectly predicted as negative).\n",
    "## How to Calculate\n",
    "\n",
    "True Positive / (True Positive + False Negative)\n",
    "\n",
    "Sensitivity is good at understanding how well the model predicts something is positive:"
   ]
  },
  {
   "cell_type": "code",
   "execution_count": 26,
   "id": "8a7bcaf0",
   "metadata": {},
   "outputs": [],
   "source": [
    "sensitivity_recall = metrics.recall_score(actual, predicted)"
   ]
  },
  {
   "cell_type": "code",
   "execution_count": 27,
   "id": "8aae98a6",
   "metadata": {},
   "outputs": [
    {
     "data": {
      "text/plain": [
       "0.9170305676855895"
      ]
     },
     "execution_count": 27,
     "metadata": {},
     "output_type": "execute_result"
    }
   ],
   "source": [
    "sensitivity_recall"
   ]
  },
  {
   "cell_type": "markdown",
   "id": "76a78b6b",
   "metadata": {},
   "source": [
    "# Specificity\n",
    "\n",
    "How well the model is at prediciting negative results?\n",
    "\n",
    "Specificity is similar to sensitivity, but looks at it from the persepctive of negative results.\n",
    "## How to Calculate\n",
    "\n",
    "True Negative / (True Negative + False Positive)\n",
    "\n",
    "Since it is just the opposite of Recall, we use the recall_score function, taking the opposite position label:"
   ]
  },
  {
   "cell_type": "code",
   "execution_count": 28,
   "id": "c7f2436e",
   "metadata": {},
   "outputs": [],
   "source": [
    "specificity = metrics.recall_score(actual, predicted, pos_label = 0)"
   ]
  },
  {
   "cell_type": "code",
   "execution_count": 29,
   "id": "f35005d5",
   "metadata": {},
   "outputs": [
    {
     "data": {
      "text/plain": [
       "0.05952380952380952"
      ]
     },
     "execution_count": 29,
     "metadata": {},
     "output_type": "execute_result"
    }
   ],
   "source": [
    "specificity"
   ]
  },
  {
   "cell_type": "markdown",
   "id": "23e776e7",
   "metadata": {},
   "source": [
    "# F-score\n",
    "\n",
    "F-score is the \"harmonic mean\" of precision and sensitivity.\n",
    "\n",
    "It considers both false positive and false negative cases and is good for imbalanced datasets.\n",
    "## How to Calculate\n",
    "\n",
    "2 * ((Precision * Sensitivity) / (Precision + Sensitivity))\n",
    "\n",
    "This score does not take into consideration the True Negative values:"
   ]
  },
  {
   "cell_type": "code",
   "execution_count": 31,
   "id": "bf7aadb2",
   "metadata": {},
   "outputs": [],
   "source": [
    "f1score = metrics.f1_score(actual, predicted)"
   ]
  },
  {
   "cell_type": "code",
   "execution_count": 32,
   "id": "48631a04",
   "metadata": {},
   "outputs": [
    {
     "data": {
      "text/plain": [
       "0.9155313351498637"
      ]
     },
     "execution_count": 32,
     "metadata": {},
     "output_type": "execute_result"
    }
   ],
   "source": [
    "f1score"
   ]
  },
  {
   "cell_type": "markdown",
   "id": "8f53f976",
   "metadata": {},
   "source": [
    "All calulations in one:"
   ]
  },
  {
   "cell_type": "code",
   "execution_count": 33,
   "id": "c8fe854b",
   "metadata": {},
   "outputs": [
    {
     "name": "stdout",
     "output_type": "stream",
     "text": [
      "{'Accuracy': 0.845, 'Precision': 0.9140369967355821, 'Sensitivity_recall': 0.9170305676855895, 'Specificity': 0.05952380952380952, 'F1_score': 0.9155313351498637}\n"
     ]
    }
   ],
   "source": [
    "print({\"Accuracy\":checkaccuracy,\"Precision\":precision,\"Sensitivity_recall\":sensitivity_recall,\"Specificity\":specificity,\"F1_score\":f1score}) "
   ]
  },
  {
   "cell_type": "code",
   "execution_count": null,
   "id": "9d1b4736",
   "metadata": {},
   "outputs": [],
   "source": []
  }
 ],
 "metadata": {
  "kernelspec": {
   "display_name": "Python 3 (ipykernel)",
   "language": "python",
   "name": "python3"
  },
  "language_info": {
   "codemirror_mode": {
    "name": "ipython",
    "version": 3
   },
   "file_extension": ".py",
   "mimetype": "text/x-python",
   "name": "python",
   "nbconvert_exporter": "python",
   "pygments_lexer": "ipython3",
   "version": "3.9.13"
  }
 },
 "nbformat": 4,
 "nbformat_minor": 5
}
