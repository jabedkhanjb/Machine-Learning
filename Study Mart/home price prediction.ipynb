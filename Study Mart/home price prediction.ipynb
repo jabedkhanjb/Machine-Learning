{
 "cells": [
  {
   "cell_type": "code",
   "execution_count": null,
   "id": "3ed94d56",
   "metadata": {},
   "outputs": [],
   "source": [
    "import numpy as np\n",
    "import pandas as pd\n",
    "import matplotlib.pyplot as plt"
   ]
  },
  {
   "cell_type": "code",
   "execution_count": null,
   "id": "16fb5c06",
   "metadata": {},
   "outputs": [],
   "source": [
    "df = pd.read_csv(\"home price.csv\")"
   ]
  },
  {
   "cell_type": "code",
   "execution_count": null,
   "id": "e61c42b3",
   "metadata": {},
   "outputs": [],
   "source": [
    "df.isnull().sum()"
   ]
  },
  {
   "cell_type": "code",
   "execution_count": null,
   "id": "fa935c0c",
   "metadata": {},
   "outputs": [],
   "source": [
    "df.isnull().any()"
   ]
  },
  {
   "cell_type": "code",
   "execution_count": null,
   "id": "451e6249",
   "metadata": {},
   "outputs": [],
   "source": [
    "df.describe()"
   ]
  },
  {
   "cell_type": "code",
   "execution_count": null,
   "id": "c7df2a29",
   "metadata": {},
   "outputs": [],
   "source": [
    "df.head()"
   ]
  },
  {
   "cell_type": "code",
   "execution_count": null,
   "id": "419802fb",
   "metadata": {},
   "outputs": [],
   "source": [
    "plt.scatter(df[\"area\"], df[\"price\"])\n",
    "plt.show()"
   ]
  },
  {
   "cell_type": "code",
   "execution_count": null,
   "id": "9f214586",
   "metadata": {},
   "outputs": [],
   "source": [
    "x = df[[\"area\"]] # independant variables \n",
    "y = df[\"price\"] # dependant variables"
   ]
  },
  {
   "cell_type": "code",
   "execution_count": null,
   "id": "3a06f6fb",
   "metadata": {},
   "outputs": [],
   "source": [
    "plt.plot(x,y)"
   ]
  },
  {
   "cell_type": "code",
   "execution_count": null,
   "id": "285a913e",
   "metadata": {},
   "outputs": [],
   "source": [
    "plt.scatter(x,y, marker=\"+\", c=\"m\")"
   ]
  },
  {
   "cell_type": "markdown",
   "id": "3e1c7c88",
   "metadata": {},
   "source": [
    "### Train Test Split"
   ]
  },
  {
   "cell_type": "code",
   "execution_count": null,
   "id": "9225fabb",
   "metadata": {},
   "outputs": [],
   "source": [
    "from sklearn.model_selection import train_test_split"
   ]
  },
  {
   "cell_type": "code",
   "execution_count": null,
   "id": "3a8813c1",
   "metadata": {},
   "outputs": [],
   "source": [
    "xtrain, xtest, ytrain, ytest = train_test_split(x,y,test_size=0.3,random_state=1)"
   ]
  },
  {
   "cell_type": "markdown",
   "id": "2be132de",
   "metadata": {},
   "source": [
    "#### Using Linear Regression"
   ]
  },
  {
   "cell_type": "code",
   "execution_count": null,
   "id": "d9f897fa",
   "metadata": {},
   "outputs": [],
   "source": [
    "from sklearn.linear_model import LinearRegression"
   ]
  },
  {
   "cell_type": "code",
   "execution_count": null,
   "id": "6682e867",
   "metadata": {},
   "outputs": [],
   "source": [
    "regr = LinearRegression()"
   ]
  },
  {
   "cell_type": "code",
   "execution_count": null,
   "id": "f2c9b300",
   "metadata": {},
   "outputs": [],
   "source": [
    "regr.fit(xtrain,ytrain)"
   ]
  },
  {
   "cell_type": "code",
   "execution_count": null,
   "id": "bc1966be",
   "metadata": {},
   "outputs": [],
   "source": [
    "regr.predict(xtest) # then it'll print ytest, that means price of the house "
   ]
  },
  {
   "cell_type": "code",
   "execution_count": null,
   "id": "f73fd369",
   "metadata": {},
   "outputs": [],
   "source": [
    "regr.predict([[5000]])"
   ]
  },
  {
   "cell_type": "markdown",
   "id": "2721c00e",
   "metadata": {},
   "source": [
    "### Draw a best fit lline"
   ]
  },
  {
   "cell_type": "code",
   "execution_count": null,
   "id": "23dce990",
   "metadata": {},
   "outputs": [],
   "source": [
    "plt.plot(x, regr.predict(x)) # or it could be \"regr.predict(df[[\"area\"]])\""
   ]
  },
  {
   "cell_type": "code",
   "execution_count": null,
   "id": "225cd380",
   "metadata": {},
   "outputs": [],
   "source": [
    "regr.predict(df[[\"area\"]])"
   ]
  },
  {
   "cell_type": "code",
   "execution_count": null,
   "id": "fa1c1e44",
   "metadata": {},
   "outputs": [],
   "source": [
    "y"
   ]
  },
  {
   "cell_type": "code",
   "execution_count": null,
   "id": "75e208de",
   "metadata": {},
   "outputs": [],
   "source": [
    "regr.predict(x)"
   ]
  },
  {
   "cell_type": "code",
   "execution_count": null,
   "id": "9652e8da",
   "metadata": {},
   "outputs": [],
   "source": [
    "plt.scatter(x,y,marker=\"+\",c=\"m\")\n",
    "plt.plot(x, regr.predict(df[[\"area\"]])) # or it could be \"regr.predict(df[[\"area\"]])\""
   ]
  },
  {
   "cell_type": "code",
   "execution_count": null,
   "id": "60f3d02a",
   "metadata": {},
   "outputs": [],
   "source": [
    "m = regr.coef_"
   ]
  },
  {
   "cell_type": "code",
   "execution_count": null,
   "id": "f1336753",
   "metadata": {},
   "outputs": [],
   "source": [
    "c = regr.intercept_"
   ]
  },
  {
   "cell_type": "code",
   "execution_count": null,
   "id": "15c04336",
   "metadata": {},
   "outputs": [],
   "source": [
    "m"
   ]
  },
  {
   "cell_type": "code",
   "execution_count": null,
   "id": "7a9da84f",
   "metadata": {},
   "outputs": [],
   "source": [
    "c"
   ]
  },
  {
   "cell_type": "code",
   "execution_count": null,
   "id": "513ec82e",
   "metadata": {},
   "outputs": [],
   "source": [
    "xtest"
   ]
  },
  {
   "cell_type": "code",
   "execution_count": null,
   "id": "f1fa5b30",
   "metadata": {},
   "outputs": [],
   "source": [
    "x = int(input(\"Enter an Area for the house: \"))"
   ]
  },
  {
   "cell_type": "code",
   "execution_count": null,
   "id": "0faa001e",
   "metadata": {},
   "outputs": [],
   "source": [
    "y = m*x + c"
   ]
  },
  {
   "cell_type": "code",
   "execution_count": null,
   "id": "c3700fab",
   "metadata": {},
   "outputs": [],
   "source": [
    "y"
   ]
  },
  {
   "cell_type": "markdown",
   "id": "2b4094f7",
   "metadata": {},
   "source": [
    "### Accuracy check"
   ]
  },
  {
   "cell_type": "code",
   "execution_count": null,
   "id": "24b77761",
   "metadata": {},
   "outputs": [],
   "source": [
    "from sklearn.metrics import r2_score"
   ]
  },
  {
   "cell_type": "code",
   "execution_count": null,
   "id": "747e0536",
   "metadata": {},
   "outputs": [],
   "source": [
    "predictxtest = regr.predict(xtest)"
   ]
  },
  {
   "cell_type": "code",
   "execution_count": null,
   "id": "7e6e1a3a",
   "metadata": {},
   "outputs": [],
   "source": [
    "predictxtest"
   ]
  },
  {
   "cell_type": "code",
   "execution_count": null,
   "id": "a53db3f1",
   "metadata": {},
   "outputs": [],
   "source": [
    "ytest"
   ]
  },
  {
   "cell_type": "code",
   "execution_count": null,
   "id": "4d98eba7",
   "metadata": {},
   "outputs": [],
   "source": [
    "xtest"
   ]
  },
  {
   "cell_type": "code",
   "execution_count": null,
   "id": "58cf285d",
   "metadata": {},
   "outputs": [],
   "source": [
    "accuracy = r2_score(ytest, predictxtest)\n",
    "accuracy"
   ]
  },
  {
   "cell_type": "code",
   "execution_count": null,
   "id": "2fd41a13",
   "metadata": {},
   "outputs": [],
   "source": [
    "print(f\"Accuracy level is {accuracy} between 0 - 1\")"
   ]
  },
  {
   "cell_type": "markdown",
   "id": "b1a78a77",
   "metadata": {},
   "source": [
    "# THE END"
   ]
  },
  {
   "cell_type": "code",
   "execution_count": null,
   "id": "958c8302",
   "metadata": {},
   "outputs": [],
   "source": []
  }
 ],
 "metadata": {
  "kernelspec": {
   "display_name": "Python 3 (ipykernel)",
   "language": "python",
   "name": "python3"
  },
  "language_info": {
   "codemirror_mode": {
    "name": "ipython",
    "version": 3
   },
   "file_extension": ".py",
   "mimetype": "text/x-python",
   "name": "python",
   "nbconvert_exporter": "python",
   "pygments_lexer": "ipython3",
   "version": "3.9.13"
  }
 },
 "nbformat": 4,
 "nbformat_minor": 5
}
