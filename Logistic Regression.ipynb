{
 "cells": [
  {
   "cell_type": "markdown",
   "id": "27f0a862",
   "metadata": {},
   "source": [
    "# Logistic Regression"
   ]
  },
  {
   "cell_type": "markdown",
   "id": "59c651bd",
   "metadata": {},
   "source": [
    "Logistic regression aims to solve classification problems. It does this by predicting categorical outcomes, unlike linear regression that predicts a continuous outcome.\n",
    "\n",
    "In the simplest case there are two outcomes, which is called binomial, an example of which is predicting if a tumor is malignant or benign. Other cases have more than two outcomes to classify, in this case it is called multinomial. A common example for multinomial logistic regression would be predicting the class of an iris flower between 3 different species."
   ]
  },
  {
   "cell_type": "code",
   "execution_count": 1,
   "id": "475beaf1",
   "metadata": {},
   "outputs": [],
   "source": [
    "import numpy as np"
   ]
  },
  {
   "cell_type": "code",
   "execution_count": 19,
   "id": "b99603c3",
   "metadata": {},
   "outputs": [],
   "source": [
    "X = np.array([3.78, 2.44, 2.09, 0.14, 1.72, 1.65, 4.92, 4.37, 4.96, 4.52, 3.69, 5.88]).reshape(-1,1)\n",
    "y = np.array([0, 0, 0, 0, 0, 0, 1, 1, 1, 1, 1, 1]) "
   ]
  },
  {
   "cell_type": "code",
   "execution_count": 20,
   "id": "fd5bfb5c",
   "metadata": {},
   "outputs": [],
   "source": [
    "#Note: X has to be reshaped into a column from a row for the LogisticRegression() function to work.\n",
    "#y represents whether or not the tumor is cancerous (0 for \"No\", 1 for \"Yes\")."
   ]
  },
  {
   "cell_type": "code",
   "execution_count": 21,
   "id": "d2406530",
   "metadata": {},
   "outputs": [],
   "source": [
    "from sklearn import linear_model"
   ]
  },
  {
   "cell_type": "code",
   "execution_count": 22,
   "id": "c7cce158",
   "metadata": {},
   "outputs": [],
   "source": [
    "log = linear_model.LogisticRegression()"
   ]
  },
  {
   "cell_type": "code",
   "execution_count": 23,
   "id": "ee5cd92c",
   "metadata": {},
   "outputs": [
    {
     "data": {
      "text/plain": [
       "LogisticRegression()"
      ]
     },
     "execution_count": 23,
     "metadata": {},
     "output_type": "execute_result"
    }
   ],
   "source": [
    "log.fit(X, y)"
   ]
  },
  {
   "cell_type": "markdown",
   "id": "1e7e44df",
   "metadata": {},
   "source": [
    "### Prediction "
   ]
  },
  {
   "cell_type": "code",
   "execution_count": 31,
   "id": "47d4406e",
   "metadata": {},
   "outputs": [],
   "source": [
    "prediction = log.predict(np.array([2.44]).reshape(-1,1))"
   ]
  },
  {
   "cell_type": "code",
   "execution_count": 32,
   "id": "517ab358",
   "metadata": {},
   "outputs": [
    {
     "data": {
      "text/plain": [
       "array([0])"
      ]
     },
     "execution_count": 32,
     "metadata": {},
     "output_type": "execute_result"
    }
   ],
   "source": [
    "prediction"
   ]
  },
  {
   "cell_type": "markdown",
   "id": "b1d5cc71",
   "metadata": {},
   "source": [
    "# Coefficient\n",
    "\n",
    "In logistic regression the coefficient is the expected change in log-odds of having the outcome per unit change in X.\n",
    "\n",
    "This does not have the most intuitive understanding so let's use it to create something that makes more sense, odds."
   ]
  },
  {
   "cell_type": "code",
   "execution_count": 33,
   "id": "d6cf62b9",
   "metadata": {},
   "outputs": [],
   "source": [
    "log_odds = log.coef_"
   ]
  },
  {
   "cell_type": "code",
   "execution_count": 34,
   "id": "d91de80f",
   "metadata": {},
   "outputs": [],
   "source": [
    "odds = np.exp(log_odds)"
   ]
  },
  {
   "cell_type": "code",
   "execution_count": 35,
   "id": "af45cbf8",
   "metadata": {},
   "outputs": [
    {
     "data": {
      "text/plain": [
       "array([[4.03541657]])"
      ]
     },
     "execution_count": 35,
     "metadata": {},
     "output_type": "execute_result"
    }
   ],
   "source": [
    "odds"
   ]
  },
  {
   "cell_type": "markdown",
   "id": "e11d0c56",
   "metadata": {},
   "source": [
    "# Probability\n",
    "The coefficient and intercept values can be used to find the probability"
   ]
  },
  {
   "cell_type": "code",
   "execution_count": 42,
   "id": "75fae34f",
   "metadata": {},
   "outputs": [],
   "source": [
    "def log2prob(log, X):\n",
    "    log.odd = log.coef_ * X + log.intercept_\n",
    "    odd = np.exp(log.odd)\n",
    "    probability = odd / (1+odd)\n",
    "    return (probability)"
   ]
  },
  {
   "cell_type": "code",
   "execution_count": 43,
   "id": "0eaf254c",
   "metadata": {},
   "outputs": [
    {
     "name": "stdout",
     "output_type": "stream",
     "text": [
      "[[0.60749955]\n",
      " [0.19268876]\n",
      " [0.12775886]\n",
      " [0.00955221]\n",
      " [0.08038616]\n",
      " [0.07345637]\n",
      " [0.88362743]\n",
      " [0.77901378]\n",
      " [0.88924409]\n",
      " [0.81293497]\n",
      " [0.57719129]\n",
      " [0.96664243]]\n"
     ]
    }
   ],
   "source": [
    "print(log2prob(log, X)) "
   ]
  },
  {
   "cell_type": "code",
   "execution_count": null,
   "id": "a86a9dc3",
   "metadata": {},
   "outputs": [],
   "source": []
  }
 ],
 "metadata": {
  "kernelspec": {
   "display_name": "Python 3 (ipykernel)",
   "language": "python",
   "name": "python3"
  },
  "language_info": {
   "codemirror_mode": {
    "name": "ipython",
    "version": 3
   },
   "file_extension": ".py",
   "mimetype": "text/x-python",
   "name": "python",
   "nbconvert_exporter": "python",
   "pygments_lexer": "ipython3",
   "version": "3.9.13"
  }
 },
 "nbformat": 4,
 "nbformat_minor": 5
}
